{
 "cells": [
  {
   "cell_type": "markdown",
   "id": "890acbe0",
   "metadata": {},
   "source": [
    "## 2 The Data"
   ]
  },
  {
   "cell_type": "code",
   "execution_count": 1,
   "id": "dface87d",
   "metadata": {},
   "outputs": [],
   "source": [
    "import wrds\n",
    "import pandas as pd"
   ]
  },
  {
   "cell_type": "code",
   "execution_count": 2,
   "id": "1dfe0075",
   "metadata": {},
   "outputs": [
    {
     "name": "stdout",
     "output_type": "stream",
     "text": [
      "WRDS recommends setting up a .pgpass file.\n",
      "Created .pgpass file successfully.\n",
      "You can create this file yourself at any time with the create_pgpass_file() function.\n",
      "Loading library list...\n",
      "Done\n"
     ]
    }
   ],
   "source": [
    "# Connect to WRDS\n",
    "db = wrds.Connection()\n",
    "db.create_pgpass_file()"
   ]
  },
  {
   "cell_type": "code",
   "execution_count": 3,
   "id": "b3381a7a",
   "metadata": {},
   "outputs": [],
   "source": [
    "# Query the WRDS Monthly World Indices dataset\n",
    "data = db.raw_sql(\"\"\"\n",
    "    SELECT * \n",
    "    FROM wrdsapps_windices.mwcountryreturns\n",
    "    WHERE date BETWEEN '2002-01-01' AND '2024-12-31'\n",
    "    AND country IN ('AUSTRIA', 'FRANCE', 'GERMANY', 'JAPAN', 'SWITZERLAND', 'UNITED KINGDOM')\n",
    "\"\"\")\n",
    "data.to_csv('project_data_MWI.csv', sep=';', index=False)"
   ]
  },
  {
   "cell_type": "code",
   "execution_count": 4,
   "id": "ee9d8f81",
   "metadata": {},
   "outputs": [],
   "source": [
    "# Query  CRSP’s value-weighted return index for the US\n",
    "\n",
    "data = db.raw_sql(\"\"\"\n",
    "    SELECT caldt, vwretd, vwretx\n",
    "    FROM crsp_a_indexes.msp500\n",
    "    WHERE Caldt BETWEEN '2002-01-01' AND '2024-12-31'\"\"\")\n",
    "data.to_csv('US_stock.csv', sep=';', index=False)"
   ]
  },
  {
   "cell_type": "code",
   "execution_count": 5,
   "id": "fc4006b2",
   "metadata": {},
   "outputs": [],
   "source": [
    "# Query 1-month T-Bill\n",
    "data = db.raw_sql(\"\"\"\n",
    "    SELECT caldt, T30ret\n",
    "    FROM crsp_a_indexes.mcti \n",
    "    WHERE Caldt BETWEEN '2002-01-01' AND '2024-12-31'\"\"\")\n",
    "data.to_csv('US_treasury.csv', sep=';', index=False)"
   ]
  }
 ],
 "metadata": {
  "kernelspec": {
   "display_name": "Python 3",
   "language": "python",
   "name": "python3"
  },
  "language_info": {
   "codemirror_mode": {
    "name": "ipython",
    "version": 3
   },
   "file_extension": ".py",
   "mimetype": "text/x-python",
   "name": "python",
   "nbconvert_exporter": "python",
   "pygments_lexer": "ipython3",
   "version": "3.10.11"
  }
 },
 "nbformat": 4,
 "nbformat_minor": 5
}
